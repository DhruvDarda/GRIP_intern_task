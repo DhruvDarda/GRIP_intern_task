{
 "cells": [
  {
   "cell_type": "code",
   "execution_count": 1,
   "id": "38dd7969",
   "metadata": {},
   "outputs": [],
   "source": [
    "import pandas as pd\n",
    "import numpy as np\n",
    "import matplotlib.pyplot as plt\n",
    "import seaborn as sns"
   ]
  },
  {
   "cell_type": "code",
   "execution_count": 29,
   "id": "681f2fa1",
   "metadata": {
    "scrolled": false
   },
   "outputs": [
    {
     "name": "stderr",
     "output_type": "stream",
     "text": [
      "C:\\Users\\DHRUV DARDA\\AppData\\Roaming\\Python\\Python38\\site-packages\\IPython\\core\\interactiveshell.py:3145: DtypeWarning: Columns (4,6,31,33,61,62,63,76,79,90,92,94,96,114,115,121) have mixed types.Specify dtype option on import or set low_memory=False.\n",
      "  has_raised = await self.run_ast_nodes(code_ast.body, cell_name,\n"
     ]
    },
    {
     "data": {
      "text/html": [
       "<div>\n",
       "<style scoped>\n",
       "    .dataframe tbody tr th:only-of-type {\n",
       "        vertical-align: middle;\n",
       "    }\n",
       "\n",
       "    .dataframe tbody tr th {\n",
       "        vertical-align: top;\n",
       "    }\n",
       "\n",
       "    .dataframe thead th {\n",
       "        text-align: right;\n",
       "    }\n",
       "</style>\n",
       "<table border=\"1\" class=\"dataframe\">\n",
       "  <thead>\n",
       "    <tr style=\"text-align: right;\">\n",
       "      <th></th>\n",
       "      <th>eventid</th>\n",
       "      <th>iyear</th>\n",
       "      <th>imonth</th>\n",
       "      <th>iday</th>\n",
       "      <th>approxdate</th>\n",
       "      <th>extended</th>\n",
       "      <th>resolution</th>\n",
       "      <th>country</th>\n",
       "      <th>country_txt</th>\n",
       "      <th>region</th>\n",
       "      <th>...</th>\n",
       "      <th>addnotes</th>\n",
       "      <th>scite1</th>\n",
       "      <th>scite2</th>\n",
       "      <th>scite3</th>\n",
       "      <th>dbsource</th>\n",
       "      <th>INT_LOG</th>\n",
       "      <th>INT_IDEO</th>\n",
       "      <th>INT_MISC</th>\n",
       "      <th>INT_ANY</th>\n",
       "      <th>related</th>\n",
       "    </tr>\n",
       "  </thead>\n",
       "  <tbody>\n",
       "    <tr>\n",
       "      <th>0</th>\n",
       "      <td>197000000001</td>\n",
       "      <td>1970</td>\n",
       "      <td>7</td>\n",
       "      <td>2</td>\n",
       "      <td>NaN</td>\n",
       "      <td>0</td>\n",
       "      <td>NaN</td>\n",
       "      <td>58</td>\n",
       "      <td>Dominican Republic</td>\n",
       "      <td>2</td>\n",
       "      <td>...</td>\n",
       "      <td>NaN</td>\n",
       "      <td>NaN</td>\n",
       "      <td>NaN</td>\n",
       "      <td>NaN</td>\n",
       "      <td>PGIS</td>\n",
       "      <td>0</td>\n",
       "      <td>0</td>\n",
       "      <td>0</td>\n",
       "      <td>0</td>\n",
       "      <td>NaN</td>\n",
       "    </tr>\n",
       "    <tr>\n",
       "      <th>1</th>\n",
       "      <td>197000000002</td>\n",
       "      <td>1970</td>\n",
       "      <td>0</td>\n",
       "      <td>0</td>\n",
       "      <td>NaN</td>\n",
       "      <td>0</td>\n",
       "      <td>NaN</td>\n",
       "      <td>130</td>\n",
       "      <td>Mexico</td>\n",
       "      <td>1</td>\n",
       "      <td>...</td>\n",
       "      <td>NaN</td>\n",
       "      <td>NaN</td>\n",
       "      <td>NaN</td>\n",
       "      <td>NaN</td>\n",
       "      <td>PGIS</td>\n",
       "      <td>0</td>\n",
       "      <td>1</td>\n",
       "      <td>1</td>\n",
       "      <td>1</td>\n",
       "      <td>NaN</td>\n",
       "    </tr>\n",
       "    <tr>\n",
       "      <th>2</th>\n",
       "      <td>197001000001</td>\n",
       "      <td>1970</td>\n",
       "      <td>1</td>\n",
       "      <td>0</td>\n",
       "      <td>NaN</td>\n",
       "      <td>0</td>\n",
       "      <td>NaN</td>\n",
       "      <td>160</td>\n",
       "      <td>Philippines</td>\n",
       "      <td>5</td>\n",
       "      <td>...</td>\n",
       "      <td>NaN</td>\n",
       "      <td>NaN</td>\n",
       "      <td>NaN</td>\n",
       "      <td>NaN</td>\n",
       "      <td>PGIS</td>\n",
       "      <td>-9</td>\n",
       "      <td>-9</td>\n",
       "      <td>1</td>\n",
       "      <td>1</td>\n",
       "      <td>NaN</td>\n",
       "    </tr>\n",
       "    <tr>\n",
       "      <th>3</th>\n",
       "      <td>197001000002</td>\n",
       "      <td>1970</td>\n",
       "      <td>1</td>\n",
       "      <td>0</td>\n",
       "      <td>NaN</td>\n",
       "      <td>0</td>\n",
       "      <td>NaN</td>\n",
       "      <td>78</td>\n",
       "      <td>Greece</td>\n",
       "      <td>8</td>\n",
       "      <td>...</td>\n",
       "      <td>NaN</td>\n",
       "      <td>NaN</td>\n",
       "      <td>NaN</td>\n",
       "      <td>NaN</td>\n",
       "      <td>PGIS</td>\n",
       "      <td>-9</td>\n",
       "      <td>-9</td>\n",
       "      <td>1</td>\n",
       "      <td>1</td>\n",
       "      <td>NaN</td>\n",
       "    </tr>\n",
       "    <tr>\n",
       "      <th>4</th>\n",
       "      <td>197001000003</td>\n",
       "      <td>1970</td>\n",
       "      <td>1</td>\n",
       "      <td>0</td>\n",
       "      <td>NaN</td>\n",
       "      <td>0</td>\n",
       "      <td>NaN</td>\n",
       "      <td>101</td>\n",
       "      <td>Japan</td>\n",
       "      <td>4</td>\n",
       "      <td>...</td>\n",
       "      <td>NaN</td>\n",
       "      <td>NaN</td>\n",
       "      <td>NaN</td>\n",
       "      <td>NaN</td>\n",
       "      <td>PGIS</td>\n",
       "      <td>-9</td>\n",
       "      <td>-9</td>\n",
       "      <td>1</td>\n",
       "      <td>1</td>\n",
       "      <td>NaN</td>\n",
       "    </tr>\n",
       "  </tbody>\n",
       "</table>\n",
       "<p>5 rows × 135 columns</p>\n",
       "</div>"
      ],
      "text/plain": [
       "        eventid  iyear  imonth  iday approxdate  extended resolution  country  \\\n",
       "0  197000000001   1970       7     2        NaN         0        NaN       58   \n",
       "1  197000000002   1970       0     0        NaN         0        NaN      130   \n",
       "2  197001000001   1970       1     0        NaN         0        NaN      160   \n",
       "3  197001000002   1970       1     0        NaN         0        NaN       78   \n",
       "4  197001000003   1970       1     0        NaN         0        NaN      101   \n",
       "\n",
       "          country_txt  region  ... addnotes scite1 scite2  scite3  dbsource  \\\n",
       "0  Dominican Republic       2  ...      NaN    NaN    NaN     NaN      PGIS   \n",
       "1              Mexico       1  ...      NaN    NaN    NaN     NaN      PGIS   \n",
       "2         Philippines       5  ...      NaN    NaN    NaN     NaN      PGIS   \n",
       "3              Greece       8  ...      NaN    NaN    NaN     NaN      PGIS   \n",
       "4               Japan       4  ...      NaN    NaN    NaN     NaN      PGIS   \n",
       "\n",
       "   INT_LOG  INT_IDEO INT_MISC INT_ANY  related  \n",
       "0        0         0        0       0      NaN  \n",
       "1        0         1        1       1      NaN  \n",
       "2       -9        -9        1       1      NaN  \n",
       "3       -9        -9        1       1      NaN  \n",
       "4       -9        -9        1       1      NaN  \n",
       "\n",
       "[5 rows x 135 columns]"
      ]
     },
     "execution_count": 29,
     "metadata": {},
     "output_type": "execute_result"
    }
   ],
   "source": [
    "gt = pd.read_csv('globalterrorismdb_0718dist.csv')\n",
    "gt.head()"
   ]
  },
  {
   "cell_type": "code",
   "execution_count": 3,
   "id": "f6e171e3",
   "metadata": {},
   "outputs": [
    {
     "data": {
      "text/plain": [
       "(181691, 135)"
      ]
     },
     "execution_count": 3,
     "metadata": {},
     "output_type": "execute_result"
    }
   ],
   "source": [
    "gt.shape"
   ]
  },
  {
   "cell_type": "code",
   "execution_count": 4,
   "id": "d1590240",
   "metadata": {},
   "outputs": [
    {
     "data": {
      "text/html": [
       "<div>\n",
       "<style scoped>\n",
       "    .dataframe tbody tr th:only-of-type {\n",
       "        vertical-align: middle;\n",
       "    }\n",
       "\n",
       "    .dataframe tbody tr th {\n",
       "        vertical-align: top;\n",
       "    }\n",
       "\n",
       "    .dataframe thead th {\n",
       "        text-align: right;\n",
       "    }\n",
       "</style>\n",
       "<table border=\"1\" class=\"dataframe\">\n",
       "  <thead>\n",
       "    <tr style=\"text-align: right;\">\n",
       "      <th></th>\n",
       "      <th>eventid</th>\n",
       "      <th>iyear</th>\n",
       "      <th>imonth</th>\n",
       "      <th>iday</th>\n",
       "      <th>extended</th>\n",
       "      <th>country</th>\n",
       "      <th>region</th>\n",
       "      <th>latitude</th>\n",
       "      <th>longitude</th>\n",
       "      <th>specificity</th>\n",
       "      <th>...</th>\n",
       "      <th>ransomamt</th>\n",
       "      <th>ransomamtus</th>\n",
       "      <th>ransompaid</th>\n",
       "      <th>ransompaidus</th>\n",
       "      <th>hostkidoutcome</th>\n",
       "      <th>nreleased</th>\n",
       "      <th>INT_LOG</th>\n",
       "      <th>INT_IDEO</th>\n",
       "      <th>INT_MISC</th>\n",
       "      <th>INT_ANY</th>\n",
       "    </tr>\n",
       "  </thead>\n",
       "  <tbody>\n",
       "    <tr>\n",
       "      <th>count</th>\n",
       "      <td>1.816910e+05</td>\n",
       "      <td>181691.000000</td>\n",
       "      <td>181691.000000</td>\n",
       "      <td>181691.000000</td>\n",
       "      <td>181691.000000</td>\n",
       "      <td>181691.000000</td>\n",
       "      <td>181691.000000</td>\n",
       "      <td>177135.000000</td>\n",
       "      <td>1.771340e+05</td>\n",
       "      <td>181685.000000</td>\n",
       "      <td>...</td>\n",
       "      <td>1.350000e+03</td>\n",
       "      <td>5.630000e+02</td>\n",
       "      <td>7.740000e+02</td>\n",
       "      <td>552.000000</td>\n",
       "      <td>10991.000000</td>\n",
       "      <td>10400.000000</td>\n",
       "      <td>181691.000000</td>\n",
       "      <td>181691.000000</td>\n",
       "      <td>181691.000000</td>\n",
       "      <td>181691.000000</td>\n",
       "    </tr>\n",
       "    <tr>\n",
       "      <th>mean</th>\n",
       "      <td>2.002705e+11</td>\n",
       "      <td>2002.638997</td>\n",
       "      <td>6.467277</td>\n",
       "      <td>15.505644</td>\n",
       "      <td>0.045346</td>\n",
       "      <td>131.968501</td>\n",
       "      <td>7.160938</td>\n",
       "      <td>23.498343</td>\n",
       "      <td>-4.586957e+02</td>\n",
       "      <td>1.451452</td>\n",
       "      <td>...</td>\n",
       "      <td>3.172530e+06</td>\n",
       "      <td>5.784865e+05</td>\n",
       "      <td>7.179437e+05</td>\n",
       "      <td>240.378623</td>\n",
       "      <td>4.629242</td>\n",
       "      <td>-29.018269</td>\n",
       "      <td>-4.543731</td>\n",
       "      <td>-4.464398</td>\n",
       "      <td>0.090010</td>\n",
       "      <td>-3.945952</td>\n",
       "    </tr>\n",
       "    <tr>\n",
       "      <th>std</th>\n",
       "      <td>1.325957e+09</td>\n",
       "      <td>13.259430</td>\n",
       "      <td>3.388303</td>\n",
       "      <td>8.814045</td>\n",
       "      <td>0.208063</td>\n",
       "      <td>112.414535</td>\n",
       "      <td>2.933408</td>\n",
       "      <td>18.569242</td>\n",
       "      <td>2.047790e+05</td>\n",
       "      <td>0.995430</td>\n",
       "      <td>...</td>\n",
       "      <td>3.021157e+07</td>\n",
       "      <td>7.077924e+06</td>\n",
       "      <td>1.014392e+07</td>\n",
       "      <td>2940.967293</td>\n",
       "      <td>2.035360</td>\n",
       "      <td>65.720119</td>\n",
       "      <td>4.543547</td>\n",
       "      <td>4.637152</td>\n",
       "      <td>0.568457</td>\n",
       "      <td>4.691325</td>\n",
       "    </tr>\n",
       "    <tr>\n",
       "      <th>min</th>\n",
       "      <td>1.970000e+11</td>\n",
       "      <td>1970.000000</td>\n",
       "      <td>0.000000</td>\n",
       "      <td>0.000000</td>\n",
       "      <td>0.000000</td>\n",
       "      <td>4.000000</td>\n",
       "      <td>1.000000</td>\n",
       "      <td>-53.154613</td>\n",
       "      <td>-8.618590e+07</td>\n",
       "      <td>1.000000</td>\n",
       "      <td>...</td>\n",
       "      <td>-9.900000e+01</td>\n",
       "      <td>-9.900000e+01</td>\n",
       "      <td>-9.900000e+01</td>\n",
       "      <td>-99.000000</td>\n",
       "      <td>1.000000</td>\n",
       "      <td>-99.000000</td>\n",
       "      <td>-9.000000</td>\n",
       "      <td>-9.000000</td>\n",
       "      <td>-9.000000</td>\n",
       "      <td>-9.000000</td>\n",
       "    </tr>\n",
       "    <tr>\n",
       "      <th>25%</th>\n",
       "      <td>1.991021e+11</td>\n",
       "      <td>1991.000000</td>\n",
       "      <td>4.000000</td>\n",
       "      <td>8.000000</td>\n",
       "      <td>0.000000</td>\n",
       "      <td>78.000000</td>\n",
       "      <td>5.000000</td>\n",
       "      <td>11.510046</td>\n",
       "      <td>4.545640e+00</td>\n",
       "      <td>1.000000</td>\n",
       "      <td>...</td>\n",
       "      <td>0.000000e+00</td>\n",
       "      <td>0.000000e+00</td>\n",
       "      <td>-9.900000e+01</td>\n",
       "      <td>0.000000</td>\n",
       "      <td>2.000000</td>\n",
       "      <td>-99.000000</td>\n",
       "      <td>-9.000000</td>\n",
       "      <td>-9.000000</td>\n",
       "      <td>0.000000</td>\n",
       "      <td>-9.000000</td>\n",
       "    </tr>\n",
       "    <tr>\n",
       "      <th>50%</th>\n",
       "      <td>2.009022e+11</td>\n",
       "      <td>2009.000000</td>\n",
       "      <td>6.000000</td>\n",
       "      <td>15.000000</td>\n",
       "      <td>0.000000</td>\n",
       "      <td>98.000000</td>\n",
       "      <td>6.000000</td>\n",
       "      <td>31.467463</td>\n",
       "      <td>4.324651e+01</td>\n",
       "      <td>1.000000</td>\n",
       "      <td>...</td>\n",
       "      <td>1.500000e+04</td>\n",
       "      <td>0.000000e+00</td>\n",
       "      <td>0.000000e+00</td>\n",
       "      <td>0.000000</td>\n",
       "      <td>4.000000</td>\n",
       "      <td>0.000000</td>\n",
       "      <td>-9.000000</td>\n",
       "      <td>-9.000000</td>\n",
       "      <td>0.000000</td>\n",
       "      <td>0.000000</td>\n",
       "    </tr>\n",
       "    <tr>\n",
       "      <th>75%</th>\n",
       "      <td>2.014081e+11</td>\n",
       "      <td>2014.000000</td>\n",
       "      <td>9.000000</td>\n",
       "      <td>23.000000</td>\n",
       "      <td>0.000000</td>\n",
       "      <td>160.000000</td>\n",
       "      <td>10.000000</td>\n",
       "      <td>34.685087</td>\n",
       "      <td>6.871033e+01</td>\n",
       "      <td>1.000000</td>\n",
       "      <td>...</td>\n",
       "      <td>4.000000e+05</td>\n",
       "      <td>0.000000e+00</td>\n",
       "      <td>1.273412e+03</td>\n",
       "      <td>0.000000</td>\n",
       "      <td>7.000000</td>\n",
       "      <td>1.000000</td>\n",
       "      <td>0.000000</td>\n",
       "      <td>0.000000</td>\n",
       "      <td>0.000000</td>\n",
       "      <td>0.000000</td>\n",
       "    </tr>\n",
       "    <tr>\n",
       "      <th>max</th>\n",
       "      <td>2.017123e+11</td>\n",
       "      <td>2017.000000</td>\n",
       "      <td>12.000000</td>\n",
       "      <td>31.000000</td>\n",
       "      <td>1.000000</td>\n",
       "      <td>1004.000000</td>\n",
       "      <td>12.000000</td>\n",
       "      <td>74.633553</td>\n",
       "      <td>1.793667e+02</td>\n",
       "      <td>5.000000</td>\n",
       "      <td>...</td>\n",
       "      <td>1.000000e+09</td>\n",
       "      <td>1.320000e+08</td>\n",
       "      <td>2.750000e+08</td>\n",
       "      <td>48000.000000</td>\n",
       "      <td>7.000000</td>\n",
       "      <td>2769.000000</td>\n",
       "      <td>1.000000</td>\n",
       "      <td>1.000000</td>\n",
       "      <td>1.000000</td>\n",
       "      <td>1.000000</td>\n",
       "    </tr>\n",
       "  </tbody>\n",
       "</table>\n",
       "<p>8 rows × 77 columns</p>\n",
       "</div>"
      ],
      "text/plain": [
       "            eventid          iyear         imonth           iday  \\\n",
       "count  1.816910e+05  181691.000000  181691.000000  181691.000000   \n",
       "mean   2.002705e+11    2002.638997       6.467277      15.505644   \n",
       "std    1.325957e+09      13.259430       3.388303       8.814045   \n",
       "min    1.970000e+11    1970.000000       0.000000       0.000000   \n",
       "25%    1.991021e+11    1991.000000       4.000000       8.000000   \n",
       "50%    2.009022e+11    2009.000000       6.000000      15.000000   \n",
       "75%    2.014081e+11    2014.000000       9.000000      23.000000   \n",
       "max    2.017123e+11    2017.000000      12.000000      31.000000   \n",
       "\n",
       "            extended        country         region       latitude  \\\n",
       "count  181691.000000  181691.000000  181691.000000  177135.000000   \n",
       "mean        0.045346     131.968501       7.160938      23.498343   \n",
       "std         0.208063     112.414535       2.933408      18.569242   \n",
       "min         0.000000       4.000000       1.000000     -53.154613   \n",
       "25%         0.000000      78.000000       5.000000      11.510046   \n",
       "50%         0.000000      98.000000       6.000000      31.467463   \n",
       "75%         0.000000     160.000000      10.000000      34.685087   \n",
       "max         1.000000    1004.000000      12.000000      74.633553   \n",
       "\n",
       "          longitude    specificity  ...     ransomamt   ransomamtus  \\\n",
       "count  1.771340e+05  181685.000000  ...  1.350000e+03  5.630000e+02   \n",
       "mean  -4.586957e+02       1.451452  ...  3.172530e+06  5.784865e+05   \n",
       "std    2.047790e+05       0.995430  ...  3.021157e+07  7.077924e+06   \n",
       "min   -8.618590e+07       1.000000  ... -9.900000e+01 -9.900000e+01   \n",
       "25%    4.545640e+00       1.000000  ...  0.000000e+00  0.000000e+00   \n",
       "50%    4.324651e+01       1.000000  ...  1.500000e+04  0.000000e+00   \n",
       "75%    6.871033e+01       1.000000  ...  4.000000e+05  0.000000e+00   \n",
       "max    1.793667e+02       5.000000  ...  1.000000e+09  1.320000e+08   \n",
       "\n",
       "         ransompaid  ransompaidus  hostkidoutcome     nreleased  \\\n",
       "count  7.740000e+02    552.000000    10991.000000  10400.000000   \n",
       "mean   7.179437e+05    240.378623        4.629242    -29.018269   \n",
       "std    1.014392e+07   2940.967293        2.035360     65.720119   \n",
       "min   -9.900000e+01    -99.000000        1.000000    -99.000000   \n",
       "25%   -9.900000e+01      0.000000        2.000000    -99.000000   \n",
       "50%    0.000000e+00      0.000000        4.000000      0.000000   \n",
       "75%    1.273412e+03      0.000000        7.000000      1.000000   \n",
       "max    2.750000e+08  48000.000000        7.000000   2769.000000   \n",
       "\n",
       "             INT_LOG       INT_IDEO       INT_MISC        INT_ANY  \n",
       "count  181691.000000  181691.000000  181691.000000  181691.000000  \n",
       "mean       -4.543731      -4.464398       0.090010      -3.945952  \n",
       "std         4.543547       4.637152       0.568457       4.691325  \n",
       "min        -9.000000      -9.000000      -9.000000      -9.000000  \n",
       "25%        -9.000000      -9.000000       0.000000      -9.000000  \n",
       "50%        -9.000000      -9.000000       0.000000       0.000000  \n",
       "75%         0.000000       0.000000       0.000000       0.000000  \n",
       "max         1.000000       1.000000       1.000000       1.000000  \n",
       "\n",
       "[8 rows x 77 columns]"
      ]
     },
     "execution_count": 4,
     "metadata": {},
     "output_type": "execute_result"
    }
   ],
   "source": [
    "gt.describe()"
   ]
  },
  {
   "cell_type": "code",
   "execution_count": 5,
   "id": "6ccad311",
   "metadata": {},
   "outputs": [
    {
     "data": {
      "text/plain": [
       "['eventid',\n",
       " 'iyear',\n",
       " 'imonth',\n",
       " 'iday',\n",
       " 'approxdate',\n",
       " 'extended',\n",
       " 'resolution',\n",
       " 'country',\n",
       " 'country_txt',\n",
       " 'region',\n",
       " 'region_txt',\n",
       " 'provstate',\n",
       " 'city',\n",
       " 'latitude',\n",
       " 'longitude',\n",
       " 'specificity',\n",
       " 'vicinity',\n",
       " 'location',\n",
       " 'summary',\n",
       " 'crit1',\n",
       " 'crit2',\n",
       " 'crit3',\n",
       " 'doubtterr',\n",
       " 'alternative',\n",
       " 'alternative_txt',\n",
       " 'multiple',\n",
       " 'success',\n",
       " 'suicide',\n",
       " 'attacktype1',\n",
       " 'attacktype1_txt',\n",
       " 'attacktype2',\n",
       " 'attacktype2_txt',\n",
       " 'attacktype3',\n",
       " 'attacktype3_txt',\n",
       " 'targtype1',\n",
       " 'targtype1_txt',\n",
       " 'targsubtype1',\n",
       " 'targsubtype1_txt',\n",
       " 'corp1',\n",
       " 'target1',\n",
       " 'natlty1',\n",
       " 'natlty1_txt',\n",
       " 'targtype2',\n",
       " 'targtype2_txt',\n",
       " 'targsubtype2',\n",
       " 'targsubtype2_txt',\n",
       " 'corp2',\n",
       " 'target2',\n",
       " 'natlty2',\n",
       " 'natlty2_txt',\n",
       " 'targtype3',\n",
       " 'targtype3_txt',\n",
       " 'targsubtype3',\n",
       " 'targsubtype3_txt',\n",
       " 'corp3',\n",
       " 'target3',\n",
       " 'natlty3',\n",
       " 'natlty3_txt',\n",
       " 'gname',\n",
       " 'gsubname',\n",
       " 'gname2',\n",
       " 'gsubname2',\n",
       " 'gname3',\n",
       " 'gsubname3',\n",
       " 'motive',\n",
       " 'guncertain1',\n",
       " 'guncertain2',\n",
       " 'guncertain3',\n",
       " 'individual',\n",
       " 'nperps',\n",
       " 'nperpcap',\n",
       " 'claimed',\n",
       " 'claimmode',\n",
       " 'claimmode_txt',\n",
       " 'claim2',\n",
       " 'claimmode2',\n",
       " 'claimmode2_txt',\n",
       " 'claim3',\n",
       " 'claimmode3',\n",
       " 'claimmode3_txt',\n",
       " 'compclaim',\n",
       " 'weaptype1',\n",
       " 'weaptype1_txt',\n",
       " 'weapsubtype1',\n",
       " 'weapsubtype1_txt',\n",
       " 'weaptype2',\n",
       " 'weaptype2_txt',\n",
       " 'weapsubtype2',\n",
       " 'weapsubtype2_txt',\n",
       " 'weaptype3',\n",
       " 'weaptype3_txt',\n",
       " 'weapsubtype3',\n",
       " 'weapsubtype3_txt',\n",
       " 'weaptype4',\n",
       " 'weaptype4_txt',\n",
       " 'weapsubtype4',\n",
       " 'weapsubtype4_txt',\n",
       " 'weapdetail',\n",
       " 'nkill',\n",
       " 'nkillus',\n",
       " 'nkillter',\n",
       " 'nwound',\n",
       " 'nwoundus',\n",
       " 'nwoundte',\n",
       " 'property',\n",
       " 'propextent',\n",
       " 'propextent_txt',\n",
       " 'propvalue',\n",
       " 'propcomment',\n",
       " 'ishostkid',\n",
       " 'nhostkid',\n",
       " 'nhostkidus',\n",
       " 'nhours',\n",
       " 'ndays',\n",
       " 'divert',\n",
       " 'kidhijcountry',\n",
       " 'ransom',\n",
       " 'ransomamt',\n",
       " 'ransomamtus',\n",
       " 'ransompaid',\n",
       " 'ransompaidus',\n",
       " 'ransomnote',\n",
       " 'hostkidoutcome',\n",
       " 'hostkidoutcome_txt',\n",
       " 'nreleased',\n",
       " 'addnotes',\n",
       " 'scite1',\n",
       " 'scite2',\n",
       " 'scite3',\n",
       " 'dbsource',\n",
       " 'INT_LOG',\n",
       " 'INT_IDEO',\n",
       " 'INT_MISC',\n",
       " 'INT_ANY',\n",
       " 'related']"
      ]
     },
     "execution_count": 5,
     "metadata": {},
     "output_type": "execute_result"
    }
   ],
   "source": [
    "list(gt.columns)"
   ]
  },
  {
   "cell_type": "code",
   "execution_count": 6,
   "id": "ab97500f",
   "metadata": {},
   "outputs": [
    {
     "data": {
      "text/html": [
       "<div>\n",
       "<style scoped>\n",
       "    .dataframe tbody tr th:only-of-type {\n",
       "        vertical-align: middle;\n",
       "    }\n",
       "\n",
       "    .dataframe tbody tr th {\n",
       "        vertical-align: top;\n",
       "    }\n",
       "\n",
       "    .dataframe thead th {\n",
       "        text-align: right;\n",
       "    }\n",
       "</style>\n",
       "<table border=\"1\" class=\"dataframe\">\n",
       "  <thead>\n",
       "    <tr style=\"text-align: right;\">\n",
       "      <th></th>\n",
       "      <th>Unique Values</th>\n",
       "    </tr>\n",
       "    <tr>\n",
       "      <th>Variable</th>\n",
       "      <th></th>\n",
       "    </tr>\n",
       "  </thead>\n",
       "  <tbody>\n",
       "    <tr>\n",
       "      <th>eventid</th>\n",
       "      <td>181691</td>\n",
       "    </tr>\n",
       "    <tr>\n",
       "      <th>iyear</th>\n",
       "      <td>47</td>\n",
       "    </tr>\n",
       "    <tr>\n",
       "      <th>imonth</th>\n",
       "      <td>13</td>\n",
       "    </tr>\n",
       "    <tr>\n",
       "      <th>iday</th>\n",
       "      <td>32</td>\n",
       "    </tr>\n",
       "    <tr>\n",
       "      <th>approxdate</th>\n",
       "      <td>2245</td>\n",
       "    </tr>\n",
       "    <tr>\n",
       "      <th>...</th>\n",
       "      <td>...</td>\n",
       "    </tr>\n",
       "    <tr>\n",
       "      <th>INT_LOG</th>\n",
       "      <td>3</td>\n",
       "    </tr>\n",
       "    <tr>\n",
       "      <th>INT_IDEO</th>\n",
       "      <td>3</td>\n",
       "    </tr>\n",
       "    <tr>\n",
       "      <th>INT_MISC</th>\n",
       "      <td>3</td>\n",
       "    </tr>\n",
       "    <tr>\n",
       "      <th>INT_ANY</th>\n",
       "      <td>3</td>\n",
       "    </tr>\n",
       "    <tr>\n",
       "      <th>related</th>\n",
       "      <td>14307</td>\n",
       "    </tr>\n",
       "  </tbody>\n",
       "</table>\n",
       "<p>135 rows × 1 columns</p>\n",
       "</div>"
      ],
      "text/plain": [
       "            Unique Values\n",
       "Variable                 \n",
       "eventid            181691\n",
       "iyear                  47\n",
       "imonth                 13\n",
       "iday                   32\n",
       "approxdate           2245\n",
       "...                   ...\n",
       "INT_LOG                 3\n",
       "INT_IDEO                3\n",
       "INT_MISC                3\n",
       "INT_ANY                 3\n",
       "related             14307\n",
       "\n",
       "[135 rows x 1 columns]"
      ]
     },
     "execution_count": 6,
     "metadata": {},
     "output_type": "execute_result"
    }
   ],
   "source": [
    "gt_uniques = pd.DataFrame([[i, len(gt[i].unique())] for i in gt.columns], columns=['Variable', 'Unique Values']).set_index('Variable')\n",
    "gt_uniques"
   ]
  },
  {
   "cell_type": "code",
   "execution_count": 7,
   "id": "01c8bc35",
   "metadata": {},
   "outputs": [
    {
     "data": {
      "text/plain": [
       "['extended', 'crit1', 'crit2', 'crit3', 'success', 'suicide', 'individual']"
      ]
     },
     "execution_count": 7,
     "metadata": {},
     "output_type": "execute_result"
    }
   ],
   "source": [
    "binary_variables = list(gt_uniques[gt_uniques['Unique Values'] == 2].index)\n",
    "binary_variables"
   ]
  },
  {
   "cell_type": "code",
   "execution_count": 8,
   "id": "2b4cfdcb",
   "metadata": {},
   "outputs": [
    {
     "data": {
      "text/plain": [
       "['specificity',\n",
       " 'vicinity',\n",
       " 'doubtterr',\n",
       " 'alternative',\n",
       " 'alternative_txt',\n",
       " 'multiple',\n",
       " 'guncertain1',\n",
       " 'guncertain2',\n",
       " 'guncertain3',\n",
       " 'claimed',\n",
       " 'claim2',\n",
       " 'claim3',\n",
       " 'compclaim',\n",
       " 'weaptype4',\n",
       " 'weaptype4_txt',\n",
       " 'property',\n",
       " 'propextent',\n",
       " 'propextent_txt',\n",
       " 'ishostkid',\n",
       " 'ransom',\n",
       " 'INT_LOG',\n",
       " 'INT_IDEO',\n",
       " 'INT_MISC',\n",
       " 'INT_ANY']"
      ]
     },
     "execution_count": 8,
     "metadata": {},
     "output_type": "execute_result"
    }
   ],
   "source": [
    "categorical_variables = list(gt_uniques[(6 >= gt_uniques['Unique Values']) & (gt_uniques['Unique Values'] > 2)].index)\n",
    "categorical_variables"
   ]
  },
  {
   "cell_type": "code",
   "execution_count": 9,
   "id": "4373f445",
   "metadata": {},
   "outputs": [
    {
     "data": {
      "text/plain": [
       "[['specificity', [1.0, 4.0, 5.0, 2.0, 3.0, nan]],\n",
       " ['vicinity', [0, 1, -9]],\n",
       " ['doubtterr', [0.0, -9.0, 1.0, nan]],\n",
       " ['alternative', [nan, 2.0, 1.0, 3.0, 5.0, 4.0]],\n",
       " ['alternative_txt',\n",
       "  [nan,\n",
       "   'Other Crime Type',\n",
       "   'Insurgency/Guerilla Action',\n",
       "   'Intra/Inter-group Conflict',\n",
       "   'State Actors',\n",
       "   'Lack of Intentionality']],\n",
       " ['multiple', [0.0, 1.0, nan]],\n",
       " ['guncertain1', [0.0, 1.0, nan]],\n",
       " ['guncertain2', [nan, 1.0, 0.0]],\n",
       " ['guncertain3', [nan, 0.0, 1.0]],\n",
       " ['claimed', [nan, 0.0, 1.0, -9.0]],\n",
       " ['claim2', [nan, 0.0, 1.0, -9.0]],\n",
       " ['claim3', [nan, 1.0, 0.0]],\n",
       " ['compclaim', [nan, 0.0, 1.0, -9.0]],\n",
       " ['weaptype4', [nan, 6.0, 9.0, 5.0, 8.0, 12.0]],\n",
       " ['weaptype4_txt',\n",
       "  [nan, 'Explosives', 'Melee', 'Firearms', 'Incendiary', 'Other']],\n",
       " ['property', [0, 1, -9]],\n",
       " ['propextent', [nan, 3.0, 2.0, 4.0, 1.0]],\n",
       " ['propextent_txt',\n",
       "  [nan,\n",
       "   'Minor (likely < $1 million)',\n",
       "   'Major (likely >= $1 million but < $1 billion)',\n",
       "   'Unknown',\n",
       "   'Catastrophic (likely >= $1 billion)']],\n",
       " ['ishostkid', [0.0, 1.0, nan, -9.0]],\n",
       " ['ransom', [0.0, 1.0, nan, -9.0]],\n",
       " ['INT_LOG', [0, -9, 1]],\n",
       " ['INT_IDEO', [0, 1, -9]],\n",
       " ['INT_MISC', [0, 1, -9]],\n",
       " ['INT_ANY', [0, 1, -9]]]"
      ]
     },
     "execution_count": 9,
     "metadata": {},
     "output_type": "execute_result"
    }
   ],
   "source": [
    "[[i, list(gt[i].unique())] for i in categorical_variables]"
   ]
  },
  {
   "cell_type": "code",
   "execution_count": 30,
   "id": "5b2c7c24",
   "metadata": {},
   "outputs": [
    {
     "data": {
      "text/plain": [
       "(181691, 20)"
      ]
     },
     "execution_count": 30,
     "metadata": {},
     "output_type": "execute_result"
    }
   ],
   "source": [
    "gt = gt[['iyear','imonth','iday','country_txt','provstate','region_txt','city','latitude','longitude','attacktype1_txt','nkill',\n",
    "               'nwound','target1','summary','gname','propextent_txt','targtype1_txt','weaptype1_txt','motive','success']]\n",
    "gt.shape"
   ]
  },
  {
   "cell_type": "code",
   "execution_count": 31,
   "id": "d81c9a53",
   "metadata": {},
   "outputs": [
    {
     "name": "stdout",
     "output_type": "stream",
     "text": [
      "<class 'pandas.core.frame.DataFrame'>\n",
      "RangeIndex: 181691 entries, 0 to 181690\n",
      "Data columns (total 20 columns):\n",
      " #   Column           Non-Null Count   Dtype  \n",
      "---  ------           --------------   -----  \n",
      " 0   iyear            181691 non-null  int64  \n",
      " 1   imonth           181691 non-null  int64  \n",
      " 2   iday             181691 non-null  int64  \n",
      " 3   country_txt      181691 non-null  object \n",
      " 4   provstate        181270 non-null  object \n",
      " 5   region_txt       181691 non-null  object \n",
      " 6   city             181257 non-null  object \n",
      " 7   latitude         177135 non-null  float64\n",
      " 8   longitude        177134 non-null  float64\n",
      " 9   attacktype1_txt  181691 non-null  object \n",
      " 10  nkill            171378 non-null  float64\n",
      " 11  nwound           165380 non-null  float64\n",
      " 12  target1          181055 non-null  object \n",
      " 13  summary          115562 non-null  object \n",
      " 14  gname            181691 non-null  object \n",
      " 15  propextent_txt   64065 non-null   object \n",
      " 16  targtype1_txt    181691 non-null  object \n",
      " 17  weaptype1_txt    181691 non-null  object \n",
      " 18  motive           50561 non-null   object \n",
      " 19  success          181691 non-null  int64  \n",
      "dtypes: float64(4), int64(4), object(12)\n",
      "memory usage: 27.7+ MB\n"
     ]
    }
   ],
   "source": [
    "gt.info()"
   ]
  },
  {
   "cell_type": "code",
   "execution_count": 32,
   "id": "4a785b59",
   "metadata": {},
   "outputs": [],
   "source": [
    "gt = gt.drop(['propextent_txt', 'motive'], axis = 1)"
   ]
  },
  {
   "cell_type": "code",
   "execution_count": 33,
   "id": "cfd28d75",
   "metadata": {},
   "outputs": [],
   "source": [
    "gt = gt[gt.success == 1]\n",
    "gt_f = gt[gt.success == 0]"
   ]
  },
  {
   "cell_type": "markdown",
   "id": "b05d9b2a",
   "metadata": {},
   "source": [
    "# Successful Terrorist Attacks "
   ]
  },
  {
   "cell_type": "code",
   "execution_count": 34,
   "id": "aa15db7e",
   "metadata": {},
   "outputs": [],
   "source": [
    "gt = gt[pd.notnull(gt.latitude)]\n",
    "gt = gt[pd.notnull(gt.longitude)]\n",
    "gt = gt[gt.imonth != 0]"
   ]
  },
  {
   "cell_type": "code",
   "execution_count": 15,
   "id": "23315603",
   "metadata": {},
   "outputs": [],
   "source": [
    "#!pip install geopandas\n",
    "#from shapely.geometry import Point\n",
    "#import geopandas as gpd\n",
    "#from geopandas import GeoDataFrame\n",
    "\n",
    "#geometry = [Point(xy) for xy in zip(gt['longitude'], gt['latitude'])]\n",
    "#ggt = GeoDataFrame(gt, geometry=geometry)   \n",
    "\n",
    "#this is a simple map that goes with geopandas\n",
    "#world = gpd.read_file(gpd.datasets.get_path('naturalearth_lowres'))\n",
    "#ggt.plot(ax=world.plot(figsize=(10, 6)), marker='o', color='red', markersize=15);\n",
    "\n",
    "\n",
    "#gt['locate_map'] = list(zip(gt.latitude, gt.longitude))\n",
    "#gt.drop(['latitude', 'longitude'], axis = 1, inplace = True)\n",
    "#gt"
   ]
  },
  {
   "cell_type": "code",
   "execution_count": 51,
   "id": "78d70459",
   "metadata": {
    "scrolled": true
   },
   "outputs": [
    {
     "name": "stderr",
     "output_type": "stream",
     "text": [
      "C:\\ProgramData\\Anaconda3\\lib\\site-packages\\seaborn\\_decorators.py:36: FutureWarning: Pass the following variable as a keyword arg: x. From version 0.12, the only valid positional argument will be `data`, and passing other arguments without an explicit keyword will result in an error or misinterpretation.\n",
      "  warnings.warn(\n"
     ]
    },
    {
     "data": {
      "image/png": "[encoded data removed]",
      "text/plain": [
       "<Figure size 1080x432 with 1 Axes>"
      ]
     },
     "metadata": {
      "needs_background": "light"
     },
     "output_type": "display_data"
    }
   ],
   "source": [
    "plt.subplots(figsize=(15,6))\n",
    "sns.countplot('iyear',data=gt,palette='YlOrBr',edgecolor=sns.color_palette(\"RdYlGn_r\", 10))\n",
    "plt.xticks(rotation=45)\n",
    "plt.title('Number Of Terrorist Activities Each Year')\n",
    "plt.show()"
   ]
  },
  {
   "cell_type": "code",
   "execution_count": 18,
   "id": "5014742b",
   "metadata": {},
   "outputs": [
    {
     "data": {
      "text/plain": [
       "201"
      ]
     },
     "execution_count": 18,
     "metadata": {},
     "output_type": "execute_result"
    }
   ],
   "source": [
    "len(gt['country_txt'].unique())"
   ]
  },
  {
   "cell_type": "code",
   "execution_count": 39,
   "id": "e99f163f",
   "metadata": {},
   "outputs": [
    {
     "data": {
      "text/plain": [
       "Text(0, 0.5, 'Countries in Ascending order')"
      ]
     },
     "execution_count": 39,
     "metadata": {},
     "output_type": "execute_result"
    },
    {
     "data": {
      "image/png": "[encoded data removed]",
      "text/plain": [
       "<Figure size 504x864 with 1 Axes>"
      ]
     },
     "metadata": {
      "needs_background": "light"
     },
     "output_type": "display_data"
    }
   ],
   "source": [
    "gtg = gt.country_txt.value_counts().head(20)\n",
    "ax = gtg.plot(kind='barh', figsize=(7, 12))\n",
    "#ax.bar_label(ax.containers[-1], label_type='edge')\n",
    "ax.margins(x=0.1)\n",
    "plt.title('Top 20 countries afflicted with Terrorism')\n",
    "plt.xlabel('Number')\n",
    "plt.ylabel('Countries in Ascending order')"
   ]
  },
  {
   "cell_type": "code",
   "execution_count": 50,
   "id": "d36e9580",
   "metadata": {},
   "outputs": [
    {
     "data": {
      "text/plain": [
       "Text(0, 0.5, 'Attacking types in Ascending order')"
      ]
     },
     "execution_count": 50,
     "metadata": {},
     "output_type": "execute_result"
    },
    {
     "data": {
      "image/png": "[encoded data removed]",
      "text/plain": [
       "<Figure size 504x504 with 1 Axes>"
      ]
     },
     "metadata": {
      "needs_background": "light"
     },
     "output_type": "display_data"
    }
   ],
   "source": [
    "gta1 = gt.attacktype1_txt.value_counts()\n",
    "ax = gta1.plot(kind='barh', figsize=(7, 7))\n",
    "\n",
    "\n",
    "\n",
    "ax.margins(x=0.1)\n",
    "plt.title('Different ways used by Terrorists')\n",
    "plt.xlabel('Number of such attacks')\n",
    "plt.ylabel('Attacking types in Ascending order')"
   ]
  },
  {
   "cell_type": "code",
   "execution_count": 48,
   "id": "78abbb4e",
   "metadata": {},
   "outputs": [
    {
     "data": {
      "text/plain": [
       "Text(0.5, 1.0, 'Targets of the Attacks')"
      ]
     },
     "execution_count": 48,
     "metadata": {},
     "output_type": "execute_result"
    },
    {
     "data": {
      "image/png": "[encoded data removed]",
      "text/plain": [
       "<Figure size 504x504 with 1 Axes>"
      ]
     },
     "metadata": {
      "needs_background": "light"
     },
     "output_type": "display_data"
    }
   ],
   "source": [
    "gtt1 = gt.targtype1_txt.value_counts()\n",
    "\n",
    "ax = gtt1.plot(kind='barh', figsize=(7, 7))\n",
    "\n",
    "ax.margins(x=0.1)\n",
    "plt.title('Targets of the Attacks')"
   ]
  },
  {
   "cell_type": "code",
   "execution_count": 49,
   "id": "6b0801a2",
   "metadata": {},
   "outputs": [
    {
     "data": {
      "text/plain": [
       "Text(0.5, 1.0, 'Different weapons used by Terrorists')"
      ]
     },
     "execution_count": 49,
     "metadata": {},
     "output_type": "execute_result"
    },
    {
     "data": {
      "image/png": "[encoded data removed]",
      "text/plain": [
       "<Figure size 504x504 with 1 Axes>"
      ]
     },
     "metadata": {
      "needs_background": "light"
     },
     "output_type": "display_data"
    }
   ],
   "source": [
    "gtw1 = gt.weaptype1_txt.value_counts()\n",
    "\n",
    "ax = gtw1.plot(kind='barh', figsize=(7, 7))\n",
    "\n",
    "ax.margins(x=0.1)\n",
    "plt.title('Different weapons used by Terrorists')"
   ]
  },
  {
   "cell_type": "markdown",
   "id": "26b2420a",
   "metadata": {},
   "source": [
    "# Successful Terrorist Attacks"
   ]
  },
  {
   "cell_type": "code",
   "execution_count": null,
   "id": "296539fb",
   "metadata": {},
   "outputs": [],
   "source": []
  }
 ],
 "metadata": {
  "interpreter": {
   "hash": "1baa965d5efe3ac65b79dfc60c0d706280b1da80fedb7760faf2759126c4f253"
  },
  "kernelspec": {
   "display_name": "Python 3",
   "language": "python",
   "name": "python3"
  },
  "language_info": {
   "codemirror_mode": {
    "name": "ipython",
    "version": 3
   },
   "file_extension": ".py",
   "mimetype": "text/x-python",
   "name": "python",
   "nbconvert_exporter": "python",
   "pygments_lexer": "ipython3",
   "version": "3.8.8"
  }
 },
 "nbformat": 4,
 "nbformat_minor": 5
}
